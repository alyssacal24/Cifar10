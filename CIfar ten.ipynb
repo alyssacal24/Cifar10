{
 "cells": [
  {
   "cell_type": "code",
   "execution_count": 1,
   "id": "ccb5feba",
   "metadata": {},
   "outputs": [],
   "source": [
    "import os\n",
    "import torch\n",
    "import imageio.v2 as imageio\n",
    "import torchvision\n",
    "\n",
    "from torch.utils.data import Dataset\n",
    "\n",
    "from torchvision import transforms\n",
    "\n",
    "from sklearn.model_selection import train_test_split\n",
    "\n",
    "from PIL import Image\n",
    "\n",
    "import torchvision.transforms as T\n",
    "\n",
    "import matplotlib.pyplot as plt\n",
    "import numpy as np\n",
    "from torcheval.metrics.functional import multiclass_f1_score as f1_score"
   ]
  },
  {
   "cell_type": "code",
   "execution_count": 2,
   "id": "5a7e7ab8",
   "metadata": {},
   "outputs": [],
   "source": [
    "import torch.nn as nn\n",
    "import torch.nn.functional as F\n",
    "import torch.optim as optim"
   ]
  },
  {
   "cell_type": "code",
   "execution_count": 3,
   "id": "6a98a464",
   "metadata": {},
   "outputs": [],
   "source": [
    "from sklearn.metrics import confusion_matrix\n",
    "from sklearn.metrics import precision_score, recall_score, accuracy_score, f1_score\n"
   ]
  },
  {
   "cell_type": "code",
   "execution_count": 4,
   "id": "71d31a0d-219a-4ae8-ba45-446354d3e693",
   "metadata": {},
   "outputs": [],
   "source": [
    "##!pip install torcheval"
   ]
  },
  {
   "cell_type": "code",
   "execution_count": 5,
   "id": "84c37bd4",
   "metadata": {},
   "outputs": [
    {
     "data": {
      "text/plain": [
       "True"
      ]
     },
     "execution_count": 5,
     "metadata": {},
     "output_type": "execute_result"
    }
   ],
   "source": [
    "torch.cuda.is_available()"
   ]
  },
  {
   "cell_type": "code",
   "execution_count": 6,
   "id": "7ceb205d",
   "metadata": {},
   "outputs": [
    {
     "data": {
      "text/plain": [
       "1"
      ]
     },
     "execution_count": 6,
     "metadata": {},
     "output_type": "execute_result"
    }
   ],
   "source": [
    "torch.cuda.device_count()"
   ]
  },
  {
   "cell_type": "code",
   "execution_count": 7,
   "id": "66aab362",
   "metadata": {},
   "outputs": [
    {
     "data": {
      "text/plain": [
       "0"
      ]
     },
     "execution_count": 7,
     "metadata": {},
     "output_type": "execute_result"
    }
   ],
   "source": [
    "torch.cuda.current_device()"
   ]
  },
  {
   "cell_type": "code",
   "execution_count": 8,
   "id": "2c9e39e5",
   "metadata": {},
   "outputs": [
    {
     "data": {
      "text/plain": [
       "'Tesla V100-PCIE-32GB'"
      ]
     },
     "execution_count": 8,
     "metadata": {},
     "output_type": "execute_result"
    }
   ],
   "source": [
    "torch.cuda.get_device_name(0)"
   ]
  },
  {
   "cell_type": "code",
   "execution_count": 9,
   "id": "021db2e1",
   "metadata": {},
   "outputs": [],
   "source": [
    "torch_device = torch.device(\"cpu\")\n",
    "\n",
    "if torch.cuda.is_available(): \n",
    "    torch_device = torch.device(\"cuda\")"
   ]
  },
  {
   "cell_type": "code",
   "execution_count": 10,
   "id": "dce96f9d",
   "metadata": {},
   "outputs": [
    {
     "data": {
      "text/plain": [
       "device(type='cuda')"
      ]
     },
     "execution_count": 10,
     "metadata": {},
     "output_type": "execute_result"
    }
   ],
   "source": [
    "torch_device"
   ]
  },
  {
   "cell_type": "code",
   "execution_count": 11,
   "id": "0cab4206",
   "metadata": {},
   "outputs": [],
   "source": [
    "raw_data_train = '/home/acaliba/CIFAR-10-images-master/train'\n",
    "raw_data_test  = '/home/acaliba/CIFAR-10-images-master/test'"
   ]
  },
  {
   "cell_type": "code",
   "execution_count": 12,
   "id": "f34af254",
   "metadata": {},
   "outputs": [],
   "source": [
    "PATH = \"/scratch/scholar/acaliba/CNN_model_CIFAR10\""
   ]
  },
  {
   "cell_type": "code",
   "execution_count": 13,
   "id": "25831ae6",
   "metadata": {},
   "outputs": [],
   "source": [
    "dataset_train = []\n",
    "labels_train  = []\n",
    "targets_train = []"
   ]
  },
  {
   "cell_type": "code",
   "execution_count": 14,
   "id": "f0e38603",
   "metadata": {},
   "outputs": [],
   "source": [
    "for folder in sorted( os.listdir( raw_data_train ) ):\n",
    "    ## print(folder)\n",
    "    for image in sorted(os.listdir( os.path.join(raw_data_train, folder) )):\n",
    "        if folder not in labels_train:\n",
    "            labels_train.append( folder )\n",
    "        targets_train.append(  labels_train.index(folder)  )\n",
    "        img_arr = imageio.imread(  os.path.join(raw_data_train, folder, image), pilmode=\"RGB\"  )\n",
    "        \n",
    "        img = torch.from_numpy( img_arr ).permute( 2, 0, 1 ).float()\n",
    "        \n",
    "        img /= 255\n",
    "        dataset_train.append(img)"
   ]
  },
  {
   "cell_type": "code",
   "execution_count": 15,
   "id": "d7e6d3e3",
   "metadata": {},
   "outputs": [
    {
     "data": {
      "text/plain": [
       "10"
      ]
     },
     "execution_count": 15,
     "metadata": {},
     "output_type": "execute_result"
    }
   ],
   "source": [
    "len(labels_train)"
   ]
  },
  {
   "cell_type": "code",
   "execution_count": 16,
   "id": "958b8b55",
   "metadata": {},
   "outputs": [
    {
     "data": {
      "text/plain": [
       "50000"
      ]
     },
     "execution_count": 16,
     "metadata": {},
     "output_type": "execute_result"
    }
   ],
   "source": [
    "len( targets_train )"
   ]
  },
  {
   "cell_type": "code",
   "execution_count": 17,
   "id": "9ad62b60",
   "metadata": {},
   "outputs": [
    {
     "data": {
      "text/plain": [
       "torch.Size([3, 32, 32])"
      ]
     },
     "execution_count": 17,
     "metadata": {},
     "output_type": "execute_result"
    }
   ],
   "source": [
    "dataset_train[3].shape"
   ]
  },
  {
   "cell_type": "code",
   "execution_count": 18,
   "id": "5cf4a771",
   "metadata": {},
   "outputs": [],
   "source": [
    "data_train    = torch.stack( dataset_train )\n",
    "targets_train = torch.Tensor(  targets_train  ).type(   torch.LongTensor   )\n",
    "\n",
    "torch.save(   (data_train, targets_train, labels_train), \"InClass_CIFAR10_data\"     )\n",
    "\n",
    "## data1, targets1, labels1 = torch.load(\"InClass_CIFAR10_data\")"
   ]
  },
  {
   "cell_type": "code",
   "execution_count": 19,
   "id": "be0ca497",
   "metadata": {},
   "outputs": [
    {
     "data": {
      "text/plain": [
       "torch.Size([50000, 3, 32, 32])"
      ]
     },
     "execution_count": 19,
     "metadata": {},
     "output_type": "execute_result"
    }
   ],
   "source": [
    "data_train.shape"
   ]
  },
  {
   "cell_type": "code",
   "execution_count": 20,
   "id": "482bafd6",
   "metadata": {},
   "outputs": [
    {
     "data": {
      "text/plain": [
       "torch.Size([50000])"
      ]
     },
     "execution_count": 20,
     "metadata": {},
     "output_type": "execute_result"
    }
   ],
   "source": [
    "targets_train.shape"
   ]
  },
  {
   "cell_type": "code",
   "execution_count": 21,
   "id": "1bc60b75",
   "metadata": {},
   "outputs": [
    {
     "data": {
      "text/plain": [
       "torch.Size([3, 32, 32])"
      ]
     },
     "execution_count": 21,
     "metadata": {},
     "output_type": "execute_result"
    }
   ],
   "source": [
    "data_train[4].shape"
   ]
  },
  {
   "cell_type": "code",
   "execution_count": 22,
   "id": "0d7643be",
   "metadata": {},
   "outputs": [
    {
     "data": {
      "text/plain": [
       "tensor([4, 4, 4, 4, 4, 4, 4, 4, 4, 4, 4, 4, 4, 4, 4, 4, 4, 4, 4, 4, 4, 4, 4, 4,\n",
       "        4, 4, 4, 4, 4, 4, 4, 4, 4, 4, 4, 4, 4, 4, 4, 4, 4, 4, 4, 4, 4, 4, 4, 4,\n",
       "        4, 4, 4, 4, 4, 4, 4, 4, 4, 4, 4, 4, 4, 4, 4, 4, 4, 4, 4, 4, 4, 4, 4, 4,\n",
       "        4, 4, 4, 4, 4, 4, 4, 4, 4, 4, 4, 4, 4, 4, 4, 4, 4, 4, 4, 4, 4, 4, 4, 4,\n",
       "        4, 4, 4, 4, 4, 4, 4, 4, 4, 4, 4, 4, 4, 4, 4, 4, 4, 4, 4, 4, 4, 4, 4, 4,\n",
       "        4, 4, 4, 4, 4, 4, 4, 4, 4, 4, 4, 4, 4, 4, 4, 4, 4, 4, 4, 4, 4, 4, 4, 4,\n",
       "        4, 4, 4, 4, 4, 4, 4, 4, 4, 4, 4, 4, 4, 4, 4, 4, 4, 4, 4, 4, 4, 4, 4, 4,\n",
       "        4, 4, 4, 4, 4, 4, 4, 4, 4, 4, 4, 4, 4, 4, 4, 4, 4, 4, 4, 4, 4, 4, 4, 4,\n",
       "        4, 4, 4, 4, 4, 4, 4, 4, 4, 4, 4, 4, 4, 4, 4, 4, 4, 4, 4, 4, 4, 4, 4, 4,\n",
       "        4, 4, 4, 4, 4, 4, 4, 4, 4, 4, 4, 4, 4, 4, 4, 4, 4, 4, 4, 4, 4, 4, 4, 4,\n",
       "        4, 4, 4, 4, 4, 4, 4, 4, 4, 4, 4, 4, 4, 4, 4, 4, 4, 4, 4, 4, 4, 4, 4, 4,\n",
       "        4, 4, 4, 4, 4, 4, 4, 4, 4, 4, 4, 4, 4, 4, 4, 4, 4, 4, 4, 4, 4, 4, 4, 4,\n",
       "        4, 4, 4, 4, 4, 4, 4, 4, 4, 4, 4, 4, 4, 4, 4, 4, 4, 4, 4, 4, 4, 4, 4, 4,\n",
       "        4, 4, 4, 4, 4, 4, 4, 4, 4, 4, 4, 4, 4, 4, 4, 4, 4, 4, 4, 4, 4, 4, 4, 4,\n",
       "        4, 4, 4, 4, 4, 4, 4, 4, 4, 4, 4, 4, 4, 4, 4, 4, 4, 4, 4, 4, 4, 4, 4, 4,\n",
       "        4, 4, 4, 4, 4, 4, 4, 4, 4, 4, 4, 4, 4, 4, 4, 4, 4, 4, 4, 4, 4, 4, 4, 4,\n",
       "        4, 4, 4, 4, 4, 4, 4, 4, 4, 4, 4, 4, 4, 4, 4, 4, 4, 4, 4, 4, 4, 4, 4, 4,\n",
       "        4, 4, 4, 4, 4, 4, 4, 4, 4, 4, 4, 4, 4, 4, 4, 4, 4, 4, 4, 4, 4, 4, 4, 4,\n",
       "        4, 4, 4, 4, 4, 4, 4, 4, 4, 4, 4, 4, 4, 4, 4, 4, 4, 4, 4, 4, 4, 4, 4, 4,\n",
       "        4, 4, 4, 4, 4, 4, 4, 4, 4, 4, 4, 4, 4, 4, 4, 4, 4, 4, 4, 4, 4, 4, 4, 4,\n",
       "        4, 4, 4, 4, 4, 4, 4, 4, 4, 4, 4, 4, 4, 4, 4, 4, 4, 4, 4, 4, 4, 4, 4, 4,\n",
       "        4, 4, 4, 4, 4, 4, 4, 4, 4, 4, 4, 4, 4, 4, 4, 4, 4, 4, 4, 4, 4, 4, 4, 4,\n",
       "        4, 4, 4, 4, 4, 4, 4, 4, 4, 4, 4, 4, 4, 4, 4, 4, 4, 4, 4, 4, 4, 4, 4, 4,\n",
       "        4, 4, 4, 4, 4, 4, 4, 4, 4, 4, 4, 4, 4, 4, 4, 4, 4, 4, 4, 4, 4, 4, 4, 4,\n",
       "        4, 4, 4, 4, 4, 4, 4, 4, 4, 4, 4, 4, 4, 4, 4, 4, 4, 4, 4, 4, 4, 4, 4, 4,\n",
       "        4, 4, 4, 4, 4, 4, 4, 4, 4, 4, 4, 4, 4, 4, 4, 4, 4, 4, 4, 4, 4, 4, 4, 4,\n",
       "        4, 4, 4, 4, 4, 4, 4, 4, 4, 4, 4, 4, 4, 4, 4, 4, 4, 4, 4, 4, 4, 4, 4, 4,\n",
       "        4, 4, 4, 4, 4, 4, 4, 4, 4, 4, 4, 4, 4, 4, 4, 4, 4, 4, 4, 4, 4, 4, 4, 4,\n",
       "        4, 4, 4, 4, 4, 4, 4, 4, 4, 4, 4, 4, 4, 4, 4, 4, 4, 4, 4, 4, 4, 4, 4, 4,\n",
       "        4, 4, 4, 4, 4, 4, 4, 4, 4, 4, 4, 4, 4, 4, 4, 4, 4, 4, 4, 4, 4, 4, 4, 4,\n",
       "        4, 4, 4, 4, 4, 4, 4, 4, 4, 4, 4, 4, 4, 4, 4, 4, 4, 4, 4, 4, 4, 4, 4, 4,\n",
       "        4, 4, 4, 4, 4, 4, 4, 4, 4, 4, 4, 4, 4, 4, 4, 4, 4, 4, 4, 4, 4, 4, 4, 4,\n",
       "        4, 4, 4, 4, 4, 4, 4, 4, 4, 4, 4, 4, 4, 4, 4, 4, 4, 4, 4, 4, 4, 4, 4, 4,\n",
       "        4, 4, 4, 4, 4, 4, 4, 4, 4, 4, 4, 4, 4, 4, 4, 4, 4, 4, 4, 4, 4, 4, 4, 4,\n",
       "        4, 4, 4, 4, 4, 4, 4, 4, 4, 4, 4, 4, 4, 4, 4, 4, 4, 4, 4, 4, 4, 4, 4, 4,\n",
       "        4, 4, 4, 4, 4, 4, 4, 4, 4, 4, 4, 4, 4, 4, 4, 4, 4, 4, 4, 4, 4, 4, 4, 4,\n",
       "        4, 4, 4, 4, 4, 4, 4, 4, 4, 4, 4, 4, 4, 4, 4, 4, 4, 4, 4, 4, 4, 4, 4, 4,\n",
       "        4, 4, 4, 4, 4, 4, 4, 4, 4, 4, 4, 4, 4, 4, 4, 4, 4, 4, 4, 4, 4, 4, 4, 4,\n",
       "        4, 4, 4, 4, 4, 4, 4, 4, 4, 4, 4, 4, 4, 4, 4, 4, 4, 4, 4, 4, 4, 4, 4, 4,\n",
       "        4, 4, 4, 4, 4, 4, 4, 4, 4, 4, 4, 4, 4, 4, 4, 4, 4, 4, 4, 4, 4, 4, 4, 4,\n",
       "        4, 4, 4, 4, 4, 4, 4, 4, 4, 4, 4, 4, 4, 4, 4, 4, 4, 4, 4, 4, 4, 4, 4, 4,\n",
       "        4, 4, 4, 4, 4, 4, 4, 4, 4, 4, 4, 4, 4, 4, 4, 4])"
      ]
     },
     "execution_count": 22,
     "metadata": {},
     "output_type": "execute_result"
    }
   ],
   "source": [
    "targets_train[24000:25000]"
   ]
  },
  {
   "cell_type": "code",
   "execution_count": 23,
   "id": "64568e0b",
   "metadata": {},
   "outputs": [
    {
     "data": {
      "text/plain": [
       "tensor([[[0.8392, 0.8353, 0.7059,  ..., 0.2471, 0.2902, 0.2627],\n",
       "         [0.8196, 0.8353, 0.7765,  ..., 0.1961, 0.2510, 0.2353],\n",
       "         [0.8039, 0.7961, 0.7922,  ..., 0.1961, 0.2392, 0.2431],\n",
       "         ...,\n",
       "         [0.2078, 0.1647, 0.1255,  ..., 0.4275, 0.4196, 0.4314],\n",
       "         [0.2392, 0.2471, 0.2235,  ..., 0.4235, 0.4392, 0.4510],\n",
       "         [0.2314, 0.2510, 0.2275,  ..., 0.4078, 0.4275, 0.4588]],\n",
       "\n",
       "        [[0.7569, 0.7490, 0.6196,  ..., 0.2588, 0.2980, 0.2667],\n",
       "         [0.7333, 0.7490, 0.6824,  ..., 0.2078, 0.2588, 0.2471],\n",
       "         [0.7098, 0.7020, 0.6863,  ..., 0.2157, 0.2667, 0.2706],\n",
       "         ...,\n",
       "         [0.2118, 0.1647, 0.1255,  ..., 0.4000, 0.4039, 0.4196],\n",
       "         [0.2353, 0.2431, 0.2157,  ..., 0.3961, 0.4157, 0.4392],\n",
       "         [0.2235, 0.2392, 0.2157,  ..., 0.3725, 0.4039, 0.4353]],\n",
       "\n",
       "        [[0.5490, 0.5529, 0.4353,  ..., 0.1922, 0.2549, 0.2353],\n",
       "         [0.5373, 0.5569, 0.5020,  ..., 0.1412, 0.2078, 0.2039],\n",
       "         [0.5216, 0.5216, 0.5176,  ..., 0.1373, 0.1961, 0.2078],\n",
       "         ...,\n",
       "         [0.1490, 0.1176, 0.0941,  ..., 0.3608, 0.3569, 0.3608],\n",
       "         [0.1569, 0.1725, 0.1647,  ..., 0.3569, 0.3686, 0.3804],\n",
       "         [0.1333, 0.1647, 0.1569,  ..., 0.3373, 0.3569, 0.3804]]])"
      ]
     },
     "execution_count": 23,
     "metadata": {},
     "output_type": "execute_result"
    }
   ],
   "source": [
    "img_tr = data_train[46000]\n",
    "img_tr"
   ]
  },
  {
   "cell_type": "code",
   "execution_count": 24,
   "id": "12924553",
   "metadata": {},
   "outputs": [],
   "source": [
    "transform = T.ToPILImage()"
   ]
  },
  {
   "cell_type": "code",
   "execution_count": 25,
   "id": "ce25dc7f",
   "metadata": {},
   "outputs": [],
   "source": [
    "img = transform(  img_tr  )"
   ]
  },
  {
   "cell_type": "code",
   "execution_count": 26,
   "id": "20351dc0",
   "metadata": {},
   "outputs": [
    {
     "data": {
      "image/jpeg": "[encoded data removed]",
      "image/png": "[encoded data removed]",
      "text/plain": [
       "<PIL.Image.Image image mode=RGB size=32x32>"
      ]
     },
     "execution_count": 26,
     "metadata": {},
     "output_type": "execute_result"
    }
   ],
   "source": [
    "img"
   ]
  },
  {
   "cell_type": "code",
   "execution_count": 27,
   "id": "25c1c257",
   "metadata": {},
   "outputs": [
    {
     "data": {
      "text/plain": [
       "array([0, 1, 2, 3, 4, 5, 6, 7, 8, 9])"
      ]
     },
     "execution_count": 27,
     "metadata": {},
     "output_type": "execute_result"
    }
   ],
   "source": [
    "y_train_np = targets_train.numpy() \n",
    "y_train_np.shape\n",
    "\n",
    "the_set = np.unique(  y_train_np  )\n",
    "the_set"
   ]
  },
  {
   "cell_type": "code",
   "execution_count": 28,
   "id": "093d40ec",
   "metadata": {},
   "outputs": [
    {
     "data": {
      "image/png": "[encoded data removed]",
      "text/plain": [
       "<Figure size 640x480 with 1 Axes>"
      ]
     },
     "metadata": {},
     "output_type": "display_data"
    }
   ],
   "source": [
    "_ = plt.hist( targets_train.numpy() , bins=\"auto\" )\n",
    "plt.show()"
   ]
  },
  {
   "cell_type": "code",
   "execution_count": 29,
   "id": "24d5b379",
   "metadata": {},
   "outputs": [],
   "source": [
    "dataset_test = []\n",
    "labels_test = []\n",
    "targets_test = []"
   ]
  },
  {
   "cell_type": "code",
   "execution_count": 30,
   "id": "0a65eebe",
   "metadata": {},
   "outputs": [],
   "source": [
    "for folder in sorted( os.listdir( raw_data_test ) ):\n",
    "    ## print(folder)\n",
    "    for image in sorted( os.listdir( os.path.join(raw_data_test, folder) ) ):\n",
    "        if folder not in labels_test:\n",
    "            labels_test.append( folder )\n",
    "        targets_test.append(  labels_test.index(folder)  )\n",
    "        img_arr = imageio.imread(  os.path.join(raw_data_test, folder, image), pilmode=\"RGB\"  )\n",
    "        \n",
    "        img = torch.from_numpy( img_arr ).permute( 2, 0, 1 ).float()\n",
    "        \n",
    "        img /= 255\n",
    "        dataset_test.append(img)"
   ]
  },
  {
   "cell_type": "code",
   "execution_count": 31,
   "id": "019c5f93",
   "metadata": {},
   "outputs": [],
   "source": [
    "data_test   = torch.stack( dataset_test )\n",
    "targets_test = torch.Tensor(  targets_test  ).type(   torch.LongTensor   )\n",
    "\n",
    "torch.save(   (data_test, targets_test, labels_test), \"InClass_CIFAR10_data_test\"     )\n",
    "\n",
    "## data1, targets1, labels1 = torch.load(\"InClass_CIFAR10_data\")"
   ]
  },
  {
   "cell_type": "code",
   "execution_count": 32,
   "id": "7805b1b7",
   "metadata": {},
   "outputs": [
    {
     "data": {
      "text/plain": [
       "torch.Size([10000, 3, 32, 32])"
      ]
     },
     "execution_count": 32,
     "metadata": {},
     "output_type": "execute_result"
    }
   ],
   "source": [
    "data_test.shape"
   ]
  },
  {
   "cell_type": "code",
   "execution_count": 33,
   "id": "0e90cbd3",
   "metadata": {},
   "outputs": [
    {
     "data": {
      "text/plain": [
       "torch.Size([10000])"
      ]
     },
     "execution_count": 33,
     "metadata": {},
     "output_type": "execute_result"
    }
   ],
   "source": [
    "targets_test.shape"
   ]
  },
  {
   "cell_type": "code",
   "execution_count": 34,
   "id": "235e9868",
   "metadata": {},
   "outputs": [
    {
     "data": {
      "image/png": "[encoded data removed]",
      "text/plain": [
       "<Figure size 640x480 with 1 Axes>"
      ]
     },
     "metadata": {},
     "output_type": "display_data"
    }
   ],
   "source": [
    "_ = plt.hist( targets_test.numpy() , bins=\"auto\" )\n",
    "plt.show()"
   ]
  },
  {
   "cell_type": "code",
   "execution_count": 35,
   "id": "b10cbfc7",
   "metadata": {},
   "outputs": [],
   "source": [
    "X_train = data_train  \n",
    "y_train = targets_train"
   ]
  },
  {
   "cell_type": "code",
   "execution_count": 36,
   "id": "a657e2aa",
   "metadata": {},
   "outputs": [],
   "source": [
    "X_test = data_test  \n",
    "y_test = targets_test "
   ]
  },
  {
   "cell_type": "code",
   "execution_count": 37,
   "id": "6a2a8d95",
   "metadata": {},
   "outputs": [],
   "source": [
    "X_train = X_train.numpy()\n",
    "X_test  = X_test.numpy()"
   ]
  },
  {
   "cell_type": "code",
   "execution_count": 38,
   "id": "8dc03502",
   "metadata": {},
   "outputs": [],
   "source": [
    "X_train = X_train.astype(  np.float32  )\n",
    "X_test  = X_test.astype(   np.float32  )"
   ]
  },
  {
   "cell_type": "code",
   "execution_count": 39,
   "id": "a02ba207",
   "metadata": {},
   "outputs": [],
   "source": [
    "X_train = torch.from_numpy(X_train )\n",
    "X_test = torch.from_numpy( X_test  )"
   ]
  },
  {
   "cell_type": "code",
   "execution_count": 40,
   "id": "fc0fabd7",
   "metadata": {},
   "outputs": [],
   "source": [
    "img_norm_mean = (0.5, 0.5, 0.5)"
   ]
  },
  {
   "cell_type": "code",
   "execution_count": 41,
   "id": "4715cb03",
   "metadata": {},
   "outputs": [],
   "source": [
    "img_norm_std = (0.5, 0.5, 0.5)"
   ]
  },
  {
   "cell_type": "code",
   "execution_count": 42,
   "id": "979ca872",
   "metadata": {},
   "outputs": [],
   "source": [
    "other_normalization = transforms.Compose([\n",
    "                            ## transforms.ToTensor(),\n",
    "                            transforms.Normalize( img_norm_mean, img_norm_std )\n",
    "])"
   ]
  },
  {
   "cell_type": "code",
   "execution_count": 43,
   "id": "15f5588a",
   "metadata": {},
   "outputs": [],
   "source": [
    "preprocess = transforms.Compose([\n",
    "                 transforms.Resize(256),\n",
    "                 transforms.CenterCrop(224),\n",
    "                 transforms.ToTensor()\n",
    "])"
   ]
  },
  {
   "cell_type": "code",
   "execution_count": 44,
   "id": "f7fddec3",
   "metadata": {},
   "outputs": [],
   "source": [
    "X_train = other_normalization( X_train )  \n",
    "\n",
    "X_test  = other_normalization( X_test ) "
   ]
  },
  {
   "cell_type": "code",
   "execution_count": 45,
   "id": "026d036f",
   "metadata": {},
   "outputs": [
    {
     "data": {
      "text/plain": [
       "50000"
      ]
     },
     "execution_count": 45,
     "metadata": {},
     "output_type": "execute_result"
    }
   ],
   "source": [
    "X_train.shape[0]"
   ]
  },
  {
   "cell_type": "code",
   "execution_count": 46,
   "id": "2871b82b",
   "metadata": {},
   "outputs": [
    {
     "data": {
      "text/plain": [
       "int"
      ]
     },
     "execution_count": 46,
     "metadata": {},
     "output_type": "execute_result"
    }
   ],
   "source": [
    "y_train[30000].item()\n",
    "type(y_train[30000].item())"
   ]
  },
  {
   "cell_type": "code",
   "execution_count": 47,
   "id": "6e1e36d6",
   "metadata": {},
   "outputs": [
    {
     "data": {
      "text/plain": [
       "6"
      ]
     },
     "execution_count": 47,
     "metadata": {},
     "output_type": "execute_result"
    }
   ],
   "source": [
    "y_train[30000].item()"
   ]
  },
  {
   "cell_type": "code",
   "execution_count": 48,
   "id": "23d5563d",
   "metadata": {},
   "outputs": [
    {
     "data": {
      "text/plain": [
       "tensor([[[-0.0588, -0.0431, -0.0353,  ..., -0.0275, -0.0275, -0.0275],\n",
       "         [-0.0118, -0.0118, -0.0039,  ..., -0.0431, -0.0431, -0.0431],\n",
       "         [ 0.0510,  0.0510,  0.0510,  ..., -0.0353, -0.0353, -0.0353],\n",
       "         ...,\n",
       "         [ 0.6157,  0.6157,  0.6000,  ...,  0.0431, -0.1137, -0.2627],\n",
       "         [ 0.3882,  0.3255,  0.2863,  ...,  0.1686,  0.0353, -0.2392],\n",
       "         [ 0.1529,  0.0902,  0.1059,  ..., -0.1608, -0.1373, -0.0353]],\n",
       "\n",
       "        [[ 0.6392,  0.6314,  0.6314,  ...,  0.5922,  0.5922,  0.5922],\n",
       "         [ 0.6549,  0.6549,  0.6471,  ...,  0.5765,  0.5765,  0.5765],\n",
       "         [ 0.6941,  0.6941,  0.6784,  ...,  0.5843,  0.5843,  0.5843],\n",
       "         ...,\n",
       "         [ 0.6784,  0.6941,  0.6941,  ...,  0.2235,  0.0667, -0.0824],\n",
       "         [ 0.4902,  0.4275,  0.4039,  ...,  0.2784,  0.1451, -0.1294],\n",
       "         [ 0.2863,  0.2235,  0.2392,  ..., -0.1216, -0.0980,  0.0039]],\n",
       "\n",
       "        [[ 0.8902,  0.8902,  0.8745,  ...,  0.8353,  0.8353,  0.8353],\n",
       "         [ 0.8824,  0.8824,  0.8824,  ...,  0.8196,  0.8196,  0.8196],\n",
       "         [ 0.8824,  0.8824,  0.8745,  ...,  0.8275,  0.8275,  0.8275],\n",
       "         ...,\n",
       "         [ 0.4980,  0.5059,  0.5216,  ...,  0.0039, -0.1608, -0.3098],\n",
       "         [ 0.3490,  0.2863,  0.2549,  ...,  0.1451,  0.0118, -0.2627],\n",
       "         [ 0.1608,  0.0980,  0.1137,  ..., -0.1529, -0.1294, -0.0431]]])"
      ]
     },
     "execution_count": 48,
     "metadata": {},
     "output_type": "execute_result"
    }
   ],
   "source": [
    " X_train[78]"
   ]
  },
  {
   "cell_type": "code",
   "execution_count": 49,
   "id": "0d66c6b7",
   "metadata": {},
   "outputs": [],
   "source": [
    " CIFAR_train_list = [  ( X_train[i],  y_train[i].item() )  for i in range( X_train.shape[0]   )  ]"
   ]
  },
  {
   "cell_type": "code",
   "execution_count": 50,
   "id": "68060d06",
   "metadata": {},
   "outputs": [],
   "source": [
    " CIFAR_test_list = [  ( X_test[i],  y_test[i].item() )  for i in range( X_test.shape[0]   )  ]"
   ]
  },
  {
   "cell_type": "code",
   "execution_count": 51,
   "id": "d866bc6b",
   "metadata": {},
   "outputs": [],
   "source": [
    "batch_size = 16"
   ]
  },
  {
   "cell_type": "code",
   "execution_count": 52,
   "id": "0c6deefc",
   "metadata": {},
   "outputs": [],
   "source": [
    "train_dl = torch.utils.data.DataLoader( CIFAR_train_list, batch_size=batch_size, shuffle=True  )"
   ]
  },
  {
   "cell_type": "code",
   "execution_count": 53,
   "id": "3bed2052",
   "metadata": {},
   "outputs": [],
   "source": [
    "test_dl = torch.utils.data.DataLoader( CIFAR_test_list, batch_size=10000, shuffle=True  )"
   ]
  },
  {
   "cell_type": "code",
   "execution_count": 54,
   "id": "71aaa6b7",
   "metadata": {},
   "outputs": [],
   "source": [
    "# 3x3 convolution\n",
    "def conv3x3(in_channels, out_channels, stride=1):\n",
    "    return nn.Conv2d(in_channels, out_channels, kernel_size=3, \n",
    "                     stride=stride, padding=1, bias=False)"
   ]
  },
  {
   "cell_type": "code",
   "execution_count": 55,
   "id": "1c6dd987",
   "metadata": {},
   "outputs": [],
   "source": [
    "# Residual block\n",
    "class ResidualBlock(nn.Module):\n",
    "    def __init__(self, in_channels, out_channels, stride=1, downsample=None):\n",
    "        super(ResidualBlock, self).__init__()\n",
    "        self.conv1 = conv3x3(in_channels, out_channels, stride)\n",
    "        self.bn1 = nn.BatchNorm2d(out_channels)\n",
    "        self.relu = nn.ReLU(inplace=True)\n",
    "        self.conv2 = conv3x3(out_channels, out_channels)\n",
    "        self.bn2 = nn.BatchNorm2d(out_channels)\n",
    "        self.downsample = downsample\n",
    "\n",
    "    def forward(self, x):\n",
    "        residual = x\n",
    "        out = self.conv1(x)\n",
    "        out = self.bn1(out)\n",
    "        out = self.relu(out)\n",
    "        out = self.conv2(out)\n",
    "        out = self.bn2(out)\n",
    "        if self.downsample:\n",
    "            residual = self.downsample(x)\n",
    "        out += residual\n",
    "        out = self.relu(out)\n",
    "        return out"
   ]
  },
  {
   "cell_type": "code",
   "execution_count": 56,
   "id": "a3ddf47f",
   "metadata": {},
   "outputs": [],
   "source": [
    "# ResNet\n",
    "class MyResNet(nn.Module):\n",
    "    def __init__(self, block, layers, num_classes=10):\n",
    "        super(MyResNet, self).__init__()\n",
    "        self.in_channels = 16\n",
    "        self.conv = conv3x3(3, 16)\n",
    "        self.bn = nn.BatchNorm2d(16)\n",
    "        self.relu = nn.ReLU(inplace=True)\n",
    "        self.layer1 = self.make_layer(block, 16, layers[0])\n",
    "        self.layer2 = self.make_layer(block, 32, layers[1], 2)\n",
    "        self.layer3 = self.make_layer(block, 64, layers[2], 2)\n",
    "        self.avg_pool = nn.AvgPool2d(8)\n",
    "        self.fc = nn.Linear(64, num_classes)\n",
    "\n",
    "    def make_layer(self, block, out_channels, blocks, stride=1):\n",
    "        downsample = None\n",
    "        if (stride != 1) or (self.in_channels != out_channels):\n",
    "            downsample = nn.Sequential(\n",
    "                conv3x3(self.in_channels, out_channels, stride=stride),\n",
    "                nn.BatchNorm2d(out_channels))\n",
    "        layers = []\n",
    "        layers.append(block(self.in_channels, out_channels, stride, downsample))\n",
    "        self.in_channels = out_channels\n",
    "        for i in range(1, blocks):\n",
    "            layers.append(block(out_channels, out_channels))\n",
    "        return nn.Sequential(*layers)\n",
    "\n",
    "    def forward(self, x):\n",
    "        out = self.conv(x)\n",
    "        out = self.bn(out)\n",
    "        out = self.relu(out)\n",
    "        out = self.layer1(out)\n",
    "        out = self.layer2(out)\n",
    "        out = self.layer3(out)\n",
    "        out = self.avg_pool(out)\n",
    "        out = out.view(out.size(0), -1)\n",
    "        out = self.fc(out)\n",
    "        return out"
   ]
  },
  {
   "cell_type": "code",
   "execution_count": 57,
   "id": "046bb0c1",
   "metadata": {},
   "outputs": [
    {
     "data": {
      "text/plain": [
       "3072"
      ]
     },
     "execution_count": 57,
     "metadata": {},
     "output_type": "execute_result"
    }
   ],
   "source": [
    "32*32*3"
   ]
  },
  {
   "cell_type": "markdown",
   "id": "6ce0ea0e",
   "metadata": {},
   "source": [
    "class CNN_net_DH(nn.Module):\n",
    "    ## init the class\n",
    "    def __init__(self):\n",
    "        super().__init__()\n",
    "        \n",
    "        self.model = nn.Sequential(\n",
    "            nn.Conv2d(3, 32, 3),\n",
    "            ## nn.Conv2d(32, 32, 3),\n",
    "            nn.LeakyReLU(),\n",
    "            nn.MaxPool2d(2, 2),\n",
    "            nn.Dropout(0.25),\n",
    "            \n",
    "            nn.Conv2d(32, 64, 3),\n",
    "            nn.LeakyReLU(),\n",
    "            nn.MaxPool2d(2, 2),\n",
    "            nn.Dropout(0.25),\n",
    "            \n",
    "            nn.Conv2d(64, 128, 3, padding=2),\n",
    "            nn.LeakyReLU(),\n",
    "            nn.MaxPool2d(2, 2),\n",
    "            nn.Dropout(0.25),\n",
    "            \n",
    "            nn.Conv2d(128, 256, 3),\n",
    "            nn.LeakyReLU(),\n",
    "            nn.MaxPool2d(2, 2),\n",
    "            nn.Dropout(0.25),\n",
    "            \n",
    "            View((-1, 256)),\n",
    "            \n",
    "            nn.Linear(256, 128),\n",
    "            nn.LeakyReLU(),\n",
    "            nn.Dropout(0.25),\n",
    "            \n",
    "            nn.Linear(128, 64),\n",
    "            nn.LeakyReLU(),\n",
    "            nn.Dropout(0.25),\n",
    "            \n",
    "            nn.Linear(64, 10) # Output 10 classes\n",
    "            ## nn.Softmax(dim=1)        ## nn.LogSoftmax()\n",
    "        )\n",
    "        \n",
    "            \n",
    "     \n",
    "    ## perform inference\n",
    "    def forward(self, x):\n",
    "        \n",
    "        y_pred = self.model( x  )\n",
    "       \n",
    "        \n",
    "        return y_pred"
   ]
  },
  {
   "cell_type": "code",
   "execution_count": 58,
   "id": "f364b4c1",
   "metadata": {},
   "outputs": [],
   "source": [
    "def training_loop( N_Epochs, model, loss_fn, opt ):\n",
    "    for epoch in range(N_Epochs):\n",
    "        for xb, yb in train_dl:\n",
    "            \n",
    "            ## xb = xb.view(  (16, -1 ) )\n",
    "            \n",
    "            xb = xb.to( torch_device )\n",
    "            yb = yb.to( torch_device )\n",
    "            \n",
    "            y_pred = model(xb)\n",
    "            \n",
    "            loss = loss_fn(y_pred, yb)\n",
    "            \n",
    "            opt.zero_grad()\n",
    "            loss.backward()\n",
    "            opt.step()\n",
    "        \n",
    "        if epoch % 5 == 0:\n",
    "            print(epoch, \"loss=\", loss)\n",
    "            new_PATH = PATH + str(epoch)\n",
    "            print( new_PATH )\n",
    "            torch.save(model, new_PATH)"
   ]
  },
  {
   "cell_type": "code",
   "execution_count": 59,
   "id": "4e1db142",
   "metadata": {},
   "outputs": [],
   "source": [
    "N_Epochs      = 100\n",
    "learning_rate = 0.001"
   ]
  },
  {
   "cell_type": "code",
   "execution_count": 63,
   "id": "9b762bdc",
   "metadata": {},
   "outputs": [],
   "source": [
    "## model = MLP_net()\n",
    "## model =  DL_3h_net()\n",
    "\n",
    "## model = CNN_net()\n",
    "\n",
    "##model = CNN_net_DH()\n",
    "##model.to( torch_device )\n",
    "\n",
    "model = MyResNet(ResidualBlock, [2, 2, 2]).to( torch_device )\n",
    "\n",
    "\n",
    "opt = torch.optim.Adam(  model.parameters(), lr=learning_rate, weight_decay=0.001 )\n",
    "\n",
    "loss_fn = nn.CrossEntropyLoss()"
   ]
  },
  {
   "cell_type": "code",
   "execution_count": 64,
   "id": "4775b3f2",
   "metadata": {},
   "outputs": [
    {
     "name": "stdout",
     "output_type": "stream",
     "text": [
      "0 loss= tensor(1.4317, device='cuda:0', grad_fn=<NllLossBackward0>)\n",
      "/scratch/scholar/acaliba/CNN_model_CIFAR100\n",
      "5 loss= tensor(0.7229, device='cuda:0', grad_fn=<NllLossBackward0>)\n",
      "/scratch/scholar/acaliba/CNN_model_CIFAR105\n",
      "10 loss= tensor(0.5263, device='cuda:0', grad_fn=<NllLossBackward0>)\n",
      "/scratch/scholar/acaliba/CNN_model_CIFAR1010\n",
      "15 loss= tensor(0.7870, device='cuda:0', grad_fn=<NllLossBackward0>)\n",
      "/scratch/scholar/acaliba/CNN_model_CIFAR1015\n",
      "20 loss= tensor(0.8139, device='cuda:0', grad_fn=<NllLossBackward0>)\n",
      "/scratch/scholar/acaliba/CNN_model_CIFAR1020\n",
      "25 loss= tensor(0.4176, device='cuda:0', grad_fn=<NllLossBackward0>)\n",
      "/scratch/scholar/acaliba/CNN_model_CIFAR1025\n",
      "30 loss= tensor(1.1909, device='cuda:0', grad_fn=<NllLossBackward0>)\n",
      "/scratch/scholar/acaliba/CNN_model_CIFAR1030\n",
      "35 loss= tensor(1.2989, device='cuda:0', grad_fn=<NllLossBackward0>)\n",
      "/scratch/scholar/acaliba/CNN_model_CIFAR1035\n",
      "40 loss= tensor(0.4032, device='cuda:0', grad_fn=<NllLossBackward0>)\n",
      "/scratch/scholar/acaliba/CNN_model_CIFAR1040\n",
      "45 loss= tensor(0.5340, device='cuda:0', grad_fn=<NllLossBackward0>)\n",
      "/scratch/scholar/acaliba/CNN_model_CIFAR1045\n",
      "50 loss= tensor(0.5209, device='cuda:0', grad_fn=<NllLossBackward0>)\n",
      "/scratch/scholar/acaliba/CNN_model_CIFAR1050\n",
      "55 loss= tensor(1.0162, device='cuda:0', grad_fn=<NllLossBackward0>)\n",
      "/scratch/scholar/acaliba/CNN_model_CIFAR1055\n",
      "60 loss= tensor(0.4204, device='cuda:0', grad_fn=<NllLossBackward0>)\n",
      "/scratch/scholar/acaliba/CNN_model_CIFAR1060\n",
      "65 loss= tensor(0.5956, device='cuda:0', grad_fn=<NllLossBackward0>)\n",
      "/scratch/scholar/acaliba/CNN_model_CIFAR1065\n",
      "70 loss= tensor(0.4131, device='cuda:0', grad_fn=<NllLossBackward0>)\n",
      "/scratch/scholar/acaliba/CNN_model_CIFAR1070\n",
      "75 loss= tensor(0.7139, device='cuda:0', grad_fn=<NllLossBackward0>)\n",
      "/scratch/scholar/acaliba/CNN_model_CIFAR1075\n",
      "80 loss= tensor(0.1460, device='cuda:0', grad_fn=<NllLossBackward0>)\n",
      "/scratch/scholar/acaliba/CNN_model_CIFAR1080\n",
      "85 loss= tensor(0.6998, device='cuda:0', grad_fn=<NllLossBackward0>)\n",
      "/scratch/scholar/acaliba/CNN_model_CIFAR1085\n",
      "90 loss= tensor(0.5216, device='cuda:0', grad_fn=<NllLossBackward0>)\n",
      "/scratch/scholar/acaliba/CNN_model_CIFAR1090\n",
      "95 loss= tensor(0.4095, device='cuda:0', grad_fn=<NllLossBackward0>)\n",
      "/scratch/scholar/acaliba/CNN_model_CIFAR1095\n"
     ]
    }
   ],
   "source": [
    "training_loop( N_Epochs, model, loss_fn, opt )\n"
   ]
  },
  {
   "cell_type": "code",
   "execution_count": 70,
   "id": "d357ac9b-e816-422b-9ea3-71930463e3fa",
   "metadata": {},
   "outputs": [],
   "source": [
    "def print_metrics_function(y_test, y_pred):\n",
    "    print('Accuracy: %.2f' % accuracy_score(y_test, y_pred))\n",
    "    confmat = confusion_matrix(y_true=y_test, y_pred=y_pred)\n",
    "    print(\"Confusion Matrix:\")\n",
    "    print(confmat)\n",
    "    print('Precision: %.3f' % precision_score(y_true=y_test, y_pred=y_pred, average='weighted'))\n",
    "    print('Recall: %.3f' % recall_score(y_true=y_test, y_pred=y_pred, average='weighted'))\n",
    "    print('F1-measure: %.3f' % f1_score(y_true=y_test, y_pred=y_pred, average='weighted'))\n",
    "\n",
    "def testing_loop(test_dl, model, device):\n",
    "    my_f1 = 0.0\n",
    "    count = 0.0\n",
    "    with torch.no_grad():\n",
    "        for x_raw, y_raw in test_dl:\n",
    "            x_true, y_true = x_raw.to(device), y_raw.to(device)\n",
    "            _, y_pred = torch.max(model(x_true), dim=1)\n",
    "            my_f1 += f1_score(y_true, y_pred, num_classes=10)\n",
    "            count += 1\n",
    "    return my_f1 / count"
   ]
  },
  {
   "cell_type": "code",
   "execution_count": 71,
   "id": "5e0a398d-51be-4da6-a39e-5ff945928362",
   "metadata": {},
   "outputs": [
    {
     "name": "stdout",
     "output_type": "stream",
     "text": [
      "Accuracy: 0.79\n",
      "Confusion Matrix:\n",
      "[[801  11  60  17   9   2  12   6  40  42]\n",
      " [  6 905   2   5   1   3  12   3   3  60]\n",
      " [ 49   2 695  42  84  38  59  18   9   4]\n",
      " [ 13   9  70 594  52 135  74  35   8  10]\n",
      " [ 14   3  47  43 780  19  35  44  13   2]\n",
      " [  6   2  54 137  41 684  31  39   3   3]\n",
      " [  5   2  32  44  30  13 863   3   8   0]\n",
      " [ 11   3  28  27  46  34   8 830   4   9]\n",
      " [ 58  24   7   7   3   1  10   2 862  26]\n",
      " [ 17  49   2  10   2   5   6   5  15 889]]\n",
      "Precision: 0.789\n",
      "Recall: 0.790\n",
      "F1-measure: 0.789\n"
     ]
    }
   ],
   "source": [
    "with torch.no_grad():\n",
    "    for x_real, y_real in test_dl:\n",
    "        \n",
    "        batch_size = x_real.shape[0]\n",
    "        \n",
    "        ## x_real = x_real.view(  (batch_size, -1 ) )\n",
    "        \n",
    "        x_real = x_real.to( torch_device )\n",
    "        \n",
    "        y_pred = model(  x_real  )\n",
    "        \n",
    "        vals, indeces = torch.max( y_pred, dim=1  )\n",
    "        preds = indeces\n",
    "        print_metrics_function( y_real, preds.cpu() )"
   ]
  },
  {
   "cell_type": "code",
   "execution_count": null,
   "id": "7302cc51-726e-45c3-a5c0-b38def9d766e",
   "metadata": {},
   "outputs": [],
   "source": []
  }
 ],
 "metadata": {
  "kernelspec": {
   "display_name": "Python 3 (ipykernel)",
   "language": "python",
   "name": "python3"
  },
  "language_info": {
   "codemirror_mode": {
    "name": "ipython",
    "version": 3
   },
   "file_extension": ".py",
   "mimetype": "text/x-python",
   "name": "python",
   "nbconvert_exporter": "python",
   "pygments_lexer": "ipython3",
   "version": "3.11.7"
  }
 },
 "nbformat": 4,
 "nbformat_minor": 5
}
